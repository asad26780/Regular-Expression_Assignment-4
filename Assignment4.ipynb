{
  "cells": [
    {
      "cell_type": "markdown",
      "id": "dbeb14e1",
      "metadata": {
        "id": "dbeb14e1"
      },
      "source": [
        "---\n",
        "\n",
        "## Advanced Regular Expression Assignments\n",
        "\n",
        "### Assignment 1: Extracting Phone Numbers\n",
        "\n",
        "**Raw Text:**\n",
        "Extract all valid Pakistani phone numbers from a given text.\n",
        "\n",
        "**Example:**\n",
        "```\n",
        "Text: Please contact me at 0301-1234567 or 042-35678901 for further details.\n",
        "```\n",
        "\n"
      ]
    },
    {
      "cell_type": "code",
      "execution_count": 4,
      "id": "b830b03e",
      "metadata": {
        "id": "b830b03e",
        "outputId": "9650065f-e18b-434d-9484-dcbb1484a3dd",
        "colab": {
          "base_uri": "https://localhost:8080/"
        }
      },
      "outputs": [
        {
          "output_type": "execute_result",
          "data": {
            "text/plain": [
              "['0301-1234567', '042-35678901']"
            ]
          },
          "metadata": {},
          "execution_count": 4
        }
      ],
      "source": [
        "import re\n",
        "text_1= \"Please contact me at 0301-1234567 or 042-35678901 for further details.\"\n",
        "pattern_1 = r\"\\b(\\d{3,4}\\-\\d{7,8})\\b\"\n",
        "phone_number= re.findall(pattern_1, text_1,re.MULTILINE)\n",
        "phone_number"
      ]
    },
    {
      "cell_type": "markdown",
      "id": "dd34fb2f",
      "metadata": {
        "id": "dd34fb2f"
      },
      "source": [
        "### Assignment 2: Validating Email Addresses\n",
        "\n",
        "**Raw Text:**\n",
        "Validate email addresses according to Pakistani domain extensions (.pk).\n",
        "\n",
        "**Example:**\n",
        "```\n",
        "Text: Contact us at info@example.com or support@domain.pk for assistance.\n",
        "```\n",
        "\n"
      ]
    },
    {
      "cell_type": "code",
      "execution_count": 5,
      "id": "64cf6883",
      "metadata": {
        "id": "64cf6883",
        "outputId": "5e4336c0-b303-436d-947d-fa4b13200558",
        "colab": {
          "base_uri": "https://localhost:8080/"
        }
      },
      "outputs": [
        {
          "output_type": "stream",
          "name": "stdout",
          "text": [
            "support@domain.pk\n"
          ]
        }
      ],
      "source": [
        "import re\n",
        "\n",
        "\n",
        "text = \"Contact us at info@example.com or support@domain.pk for assistance.\"\n",
        "pattern = r'\\b[\\w\\.-]+@[\\w\\.-]+\\b\\.pk\\b'\n",
        "matches = re.findall(pattern, text)\n",
        "for match in matches:\n",
        "    print(match)"
      ]
    },
    {
      "cell_type": "markdown",
      "id": "0bd2f6f3",
      "metadata": {
        "id": "0bd2f6f3"
      },
      "source": [
        "### Assignment 3: Extracting CNIC Numbers\n",
        "\n",
        "**Raw Text:**\n",
        "Extract all Pakistani CNIC (Computerized National Identity Card) numbers from a given text.\n",
        "\n",
        "**Example:**\n",
        "```\n",
        "Text: My CNIC is 12345-6789012-3 and another one is 34567-8901234-5.\n",
        "```\n"
      ]
    },
    {
      "cell_type": "code",
      "execution_count": 10,
      "id": "b825834e",
      "metadata": {
        "id": "b825834e",
        "outputId": "ba9b84a7-cb80-44ed-d748-88be29e7036f",
        "colab": {
          "base_uri": "https://localhost:8080/"
        }
      },
      "outputs": [
        {
          "output_type": "stream",
          "name": "stdout",
          "text": [
            "12345-6789012-3\n",
            "34567-8901234-5\n"
          ]
        }
      ],
      "source": [
        "import re\n",
        "\n",
        "\n",
        "text = \"My CNIC is 12345-6789012-3 and another one is 34567-8901234-5.\"\n",
        "pattern = r'\\b\\d{5}-\\d{7}-\\d{1}\\b'\n",
        "matches = re.findall(pattern, text)\n",
        "for match in matches:\n",
        "    print(match)"
      ]
    },
    {
      "cell_type": "markdown",
      "id": "f21a0a2f",
      "metadata": {
        "id": "f21a0a2f"
      },
      "source": [
        "\n",
        "### Assignment 4: Identifying Urdu Words\n",
        "\n",
        "**Raw Text:**\n",
        "Identify and extract Urdu words from a mixed English-Urdu text.\n",
        "\n",
        "**Example:**\n",
        "```\n",
        "Text: یہ sentence میں کچھ English words بھی ہیں۔\n",
        "```\n",
        "\n"
      ]
    },
    {
      "cell_type": "code",
      "execution_count": 11,
      "id": "b4263cfb",
      "metadata": {
        "id": "b4263cfb",
        "outputId": "71daf843-e799-429a-8cda-c62950012689",
        "colab": {
          "base_uri": "https://localhost:8080/"
        }
      },
      "outputs": [
        {
          "output_type": "stream",
          "name": "stdout",
          "text": [
            "یہ\n",
            "میں کچھ\n",
            "\n",
            "بھی ہیں۔\n"
          ]
        }
      ],
      "source": [
        "import re\n",
        "\n",
        "text = \"یہ sentence میں کچھ English words بھی ہیں۔\"\n",
        "urdu_pattern = r'[\\u0600-\\u06FF\\s]+'\n",
        "matches = re.findall(urdu_pattern, text)\n",
        "for match in matches:\n",
        "    print(match.strip())"
      ]
    },
    {
      "cell_type": "markdown",
      "id": "421405e8",
      "metadata": {
        "id": "421405e8"
      },
      "source": [
        "### Assignment 5: Finding Dates\n",
        "\n",
        "**Raw Text:**\n",
        "Find and extract dates in the format DD-MM-YYYY from a given text.\n",
        "\n",
        "**Example:**\n",
        "```\n",
        "Text: The event will take place on 15-08-2023 and 23-09-2023.\n",
        "```\n",
        "\n"
      ]
    },
    {
      "cell_type": "code",
      "execution_count": 12,
      "id": "c2f9d8bf",
      "metadata": {
        "id": "c2f9d8bf",
        "outputId": "8419e79b-be2d-491b-af26-db3a2a96d923",
        "colab": {
          "base_uri": "https://localhost:8080/"
        }
      },
      "outputs": [
        {
          "output_type": "stream",
          "name": "stdout",
          "text": [
            "15-08-2023\n",
            "23-09-2023\n"
          ]
        }
      ],
      "source": [
        "import re\n",
        "\n",
        "\n",
        "text = \"The event will take place on 15-08-2023 and 23-09-2023.\"\n",
        "date_pattern = r'\\b\\d{2}-\\d{2}-\\d{4}\\b'\n",
        "matches = re.findall(date_pattern, text)\n",
        "for match in matches:\n",
        "    print(match)"
      ]
    },
    {
      "cell_type": "markdown",
      "id": "6b817815",
      "metadata": {
        "id": "6b817815"
      },
      "source": [
        "### Assignment 6: Extracting URLs\n",
        "\n",
        "**Raw Text:**\n",
        "Extract all URLs from a text that belong to Pakistani domains.\n",
        "\n",
        "**Example:**\n",
        "```\n",
        "Text: Visit http://www.example.pk or https://website.com.pk for more information.\n",
        "```\n",
        "\n"
      ]
    },
    {
      "cell_type": "code",
      "execution_count": 13,
      "id": "c2ba10ac",
      "metadata": {
        "id": "c2ba10ac",
        "outputId": "db956d2e-2dac-495f-d490-ba5914e3e106",
        "colab": {
          "base_uri": "https://localhost:8080/"
        }
      },
      "outputs": [
        {
          "output_type": "stream",
          "name": "stdout",
          "text": [
            "http://www.example.pk\n",
            "https://website.com.pk\n"
          ]
        }
      ],
      "source": [
        "import re\n",
        "\n",
        "text = \"Visit http://www.example.pk or https://website.com.pk for more information.\"\n",
        "\n",
        "url_pattern = r'https?://(?:www\\.)?[\\w.-]+\\.pk\\b'\n",
        "matches = re.findall(url_pattern, text)\n",
        "\n",
        "for match in matches:\n",
        "    print(match)"
      ]
    },
    {
      "cell_type": "markdown",
      "id": "7ff1dc07",
      "metadata": {
        "id": "7ff1dc07"
      },
      "source": [
        "### Assignment 7: Analyzing Currency\n",
        "\n",
        "**Raw Text:**\n",
        "Extract and analyze currency amounts in Pakistani Rupees (PKR) from a given text.\n",
        "\n",
        "**Example:**\n",
        "```\n",
        "Text: The product costs PKR 1500, while the deluxe version is priced at Rs. 2500.\n",
        "```\n",
        "\n"
      ]
    },
    {
      "cell_type": "code",
      "execution_count": 14,
      "id": "28769652",
      "metadata": {
        "id": "28769652",
        "outputId": "47a5bf61-5dae-4728-bcdb-de7542336da5",
        "colab": {
          "base_uri": "https://localhost:8080/"
        }
      },
      "outputs": [
        {
          "output_type": "stream",
          "name": "stdout",
          "text": [
            "Found amount: PKR 1500.00\n",
            "Total sum of currency amounts: PKR 1500.00\n"
          ]
        }
      ],
      "source": [
        "import re\n",
        "\n",
        "\n",
        "text = \"The product costs PKR 1500, while the deluxe version is priced at Rs. 2500.\"\n",
        "currency_pattern = r'PKR\\s+(\\d+(?:,\\d{3})*(?:\\.\\d{2})?)'\n",
        "matches = re.findall(currency_pattern, text)\n",
        "total_sum = 0.0\n",
        "for match in matches:\n",
        "    amount = float(match.replace(',', ''))\n",
        "    print(f\"Found amount: PKR {amount:.2f}\")\n",
        "    total_sum += amount\n",
        "\n",
        "print(f\"Total sum of currency amounts: PKR {total_sum:.2f}\")"
      ]
    },
    {
      "cell_type": "markdown",
      "id": "651c8b5d",
      "metadata": {
        "id": "651c8b5d"
      },
      "source": [
        "### Assignment 8: Removing Punctuation\n",
        "\n",
        "**Raw Text:**\n",
        "Remove all punctuation marks from a text while preserving Urdu characters.\n",
        "\n",
        "**Example:**\n",
        "```\n",
        "Text: کیا! آپ, یہاں؟\n",
        "```\n",
        "\n"
      ]
    },
    {
      "cell_type": "code",
      "execution_count": 15,
      "id": "96350bf0",
      "metadata": {
        "id": "96350bf0",
        "outputId": "4d9b1a59-e3e7-4cea-9cb5-cfac797e4ee9",
        "colab": {
          "base_uri": "https://localhost:8080/"
        }
      },
      "outputs": [
        {
          "output_type": "stream",
          "name": "stdout",
          "text": [
            "کیا آپ یہاں؟\n"
          ]
        }
      ],
      "source": [
        "import re\n",
        "\n",
        "text = \"کیا! آپ, یہاں؟\"\n",
        "\n",
        "punctuation_pattern = r'[^\\w\\s؀-\\ے]+'\n",
        "\n",
        "text_without_punctuation = re.sub(punctuation_pattern, '', text)\n",
        "\n",
        "print(text_without_punctuation)"
      ]
    },
    {
      "cell_type": "markdown",
      "id": "8cc27684",
      "metadata": {
        "id": "8cc27684"
      },
      "source": [
        "### Assignment 9: Extracting City Names\n",
        "\n",
        "**Raw Text:**\n",
        "Extract names of Pakistani cities from a given text.\n",
        "\n",
        "**Example:**\n",
        "```\n",
        "Text: Lahore, Karachi, Islamabad, and Peshawar are major cities of Pakistan.\n",
        "```\n"
      ]
    },
    {
      "cell_type": "code",
      "execution_count": 16,
      "id": "a81035ed",
      "metadata": {
        "id": "a81035ed",
        "outputId": "c0e7130f-4e35-47e1-c720-20230c53c23f",
        "colab": {
          "base_uri": "https://localhost:8080/"
        }
      },
      "outputs": [
        {
          "output_type": "stream",
          "name": "stdout",
          "text": [
            "Lahore\n",
            "Karachi\n",
            "Islamabad\n",
            "Peshawar\n"
          ]
        }
      ],
      "source": [
        "import re\n",
        "\n",
        "\n",
        "text = \"Lahore, Karachi, Islamabad, and Peshawar are major cities of Pakistan.\"\n",
        "city_names = [\"Lahore\", \"Karachi\", \"Islamabad\", \"Peshawar\"]\n",
        "city_pattern = r'\\b(?:' + '|'.join(re.escape(city) for city in city_names) + r')\\b'\n",
        "matches = re.findall(city_pattern, text)\n",
        "\n",
        "for match in matches:\n",
        "    print(match)"
      ]
    },
    {
      "cell_type": "markdown",
      "id": "219b6c4c",
      "metadata": {
        "id": "219b6c4c"
      },
      "source": [
        "\n",
        "### Assignment 10: Analyzing Vehicle Numbers\n",
        "\n",
        "**Raw Text:**\n",
        "Identify and extract Pakistani vehicle registration numbers (e.g., ABC-123) from a text.\n",
        "\n",
        "**Example:**\n",
        "```\n",
        "Text: I saw a car with the number plate LEA-567 near the market.\n",
        "```\n",
        "\n"
      ]
    },
    {
      "cell_type": "code",
      "execution_count": 17,
      "id": "33e1e5ba",
      "metadata": {
        "id": "33e1e5ba",
        "outputId": "67155332-09fc-477a-e51a-58dfd6f1f225",
        "colab": {
          "base_uri": "https://localhost:8080/"
        }
      },
      "outputs": [
        {
          "output_type": "stream",
          "name": "stdout",
          "text": [
            "LEA-567\n",
            "XYZ-1234\n"
          ]
        }
      ],
      "source": [
        "import re\n",
        "\n",
        "\n",
        "text = \"I saw a car with the number plate LEA-567 near the market. Another car had the plate XYZ-1234.\"\n",
        "registration_number_pattern = r'\\b[A-Z]{3}-\\d{3,4}\\b'\n",
        "matches = re.findall(registration_number_pattern, text)\n",
        "\n",
        "for match in matches:\n",
        "    print(match)"
      ]
    }
  ],
  "metadata": {
    "kernelspec": {
      "display_name": "Python 3 (ipykernel)",
      "language": "python",
      "name": "python3"
    },
    "language_info": {
      "codemirror_mode": {
        "name": "ipython",
        "version": 3
      },
      "file_extension": ".py",
      "mimetype": "text/x-python",
      "name": "python",
      "nbconvert_exporter": "python",
      "pygments_lexer": "ipython3",
      "version": "3.11.3"
    },
    "colab": {
      "provenance": []
    }
  },
  "nbformat": 4,
  "nbformat_minor": 5
}